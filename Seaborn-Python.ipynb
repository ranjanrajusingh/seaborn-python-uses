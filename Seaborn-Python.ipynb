{
 "cells": [
  {
   "cell_type": "code",
   "execution_count": 1,
   "metadata": {},
   "outputs": [
    {
     "data": {
      "text/html": [
       "<div>\n",
       "<style scoped>\n",
       "    .dataframe tbody tr th:only-of-type {\n",
       "        vertical-align: middle;\n",
       "    }\n",
       "\n",
       "    .dataframe tbody tr th {\n",
       "        vertical-align: top;\n",
       "    }\n",
       "\n",
       "    .dataframe thead th {\n",
       "        text-align: right;\n",
       "    }\n",
       "</style>\n",
       "<table border=\"1\" class=\"dataframe\">\n",
       "  <thead>\n",
       "    <tr style=\"text-align: right;\">\n",
       "      <th></th>\n",
       "      <th>Ono</th>\n",
       "      <th>Qno</th>\n",
       "      <th>PP</th>\n",
       "      <th>OLN</th>\n",
       "      <th>SALES</th>\n",
       "      <th>ST</th>\n",
       "    </tr>\n",
       "  </thead>\n",
       "  <tbody>\n",
       "    <tr>\n",
       "      <th>0</th>\n",
       "      <td>10107</td>\n",
       "      <td>30</td>\n",
       "      <td>95.70</td>\n",
       "      <td>2</td>\n",
       "      <td>2871.00</td>\n",
       "      <td>Shipped</td>\n",
       "    </tr>\n",
       "    <tr>\n",
       "      <th>1</th>\n",
       "      <td>10121</td>\n",
       "      <td>34</td>\n",
       "      <td>81.35</td>\n",
       "      <td>5</td>\n",
       "      <td>2765.90</td>\n",
       "      <td>Shipped</td>\n",
       "    </tr>\n",
       "    <tr>\n",
       "      <th>2</th>\n",
       "      <td>10134</td>\n",
       "      <td>41</td>\n",
       "      <td>94.74</td>\n",
       "      <td>2</td>\n",
       "      <td>3884.34</td>\n",
       "      <td>Shipped</td>\n",
       "    </tr>\n",
       "    <tr>\n",
       "      <th>3</th>\n",
       "      <td>10145</td>\n",
       "      <td>45</td>\n",
       "      <td>83.26</td>\n",
       "      <td>6</td>\n",
       "      <td>3746.70</td>\n",
       "      <td>Shipped</td>\n",
       "    </tr>\n",
       "    <tr>\n",
       "      <th>4</th>\n",
       "      <td>10159</td>\n",
       "      <td>49</td>\n",
       "      <td>100.00</td>\n",
       "      <td>14</td>\n",
       "      <td>5205.27</td>\n",
       "      <td>Shipped</td>\n",
       "    </tr>\n",
       "  </tbody>\n",
       "</table>\n",
       "</div>"
      ],
      "text/plain": [
       "     Ono  Qno      PP  OLN    SALES       ST\n",
       "0  10107   30   95.70    2  2871.00  Shipped\n",
       "1  10121   34   81.35    5  2765.90  Shipped\n",
       "2  10134   41   94.74    2  3884.34  Shipped\n",
       "3  10145   45   83.26    6  3746.70  Shipped\n",
       "4  10159   49  100.00   14  5205.27  Shipped"
      ]
     },
     "execution_count": 1,
     "metadata": {},
     "output_type": "execute_result"
    }
   ],
   "source": [
    "import numpy as np\n",
    "import pandas as pd\n",
    "import matplotlib.pyplot as plot\n",
    "# Engine used to avoid encoding issue while file reading from csv\n",
    "file=pd.read_csv(\"C:/Users/BB/Desktop/Python+DA/sample-sales-data/sales_data_sample.csv\",engine=\"python\",sep=\",\")\n",
    "file.head(5)\n",
    "\n"
   ]
  },
  {
   "cell_type": "code",
   "execution_count": 4,
   "metadata": {},
   "outputs": [
    {
     "data": {
      "text/html": [
       "<div>\n",
       "<style scoped>\n",
       "    .dataframe tbody tr th:only-of-type {\n",
       "        vertical-align: middle;\n",
       "    }\n",
       "\n",
       "    .dataframe tbody tr th {\n",
       "        vertical-align: top;\n",
       "    }\n",
       "\n",
       "    .dataframe thead th {\n",
       "        text-align: right;\n",
       "    }\n",
       "</style>\n",
       "<table border=\"1\" class=\"dataframe\">\n",
       "  <thead>\n",
       "    <tr style=\"text-align: right;\">\n",
       "      <th></th>\n",
       "      <th>Ono</th>\n",
       "      <th>Qno</th>\n",
       "      <th>PP</th>\n",
       "      <th>OLN</th>\n",
       "      <th>SALES</th>\n",
       "      <th>ST</th>\n",
       "    </tr>\n",
       "  </thead>\n",
       "  <tbody>\n",
       "    <tr>\n",
       "      <th>0</th>\n",
       "      <td>10107</td>\n",
       "      <td>30</td>\n",
       "      <td>95.70</td>\n",
       "      <td>2</td>\n",
       "      <td>2871.00</td>\n",
       "      <td>Shipped</td>\n",
       "    </tr>\n",
       "    <tr>\n",
       "      <th>1</th>\n",
       "      <td>10121</td>\n",
       "      <td>34</td>\n",
       "      <td>81.35</td>\n",
       "      <td>5</td>\n",
       "      <td>2765.90</td>\n",
       "      <td>Shipped</td>\n",
       "    </tr>\n",
       "    <tr>\n",
       "      <th>2</th>\n",
       "      <td>10134</td>\n",
       "      <td>41</td>\n",
       "      <td>94.74</td>\n",
       "      <td>2</td>\n",
       "      <td>3884.34</td>\n",
       "      <td>Shipped</td>\n",
       "    </tr>\n",
       "    <tr>\n",
       "      <th>3</th>\n",
       "      <td>10145</td>\n",
       "      <td>45</td>\n",
       "      <td>83.26</td>\n",
       "      <td>6</td>\n",
       "      <td>3746.70</td>\n",
       "      <td>Shipped</td>\n",
       "    </tr>\n",
       "    <tr>\n",
       "      <th>4</th>\n",
       "      <td>10159</td>\n",
       "      <td>49</td>\n",
       "      <td>100.00</td>\n",
       "      <td>14</td>\n",
       "      <td>5205.27</td>\n",
       "      <td>Shipped</td>\n",
       "    </tr>\n",
       "  </tbody>\n",
       "</table>\n",
       "</div>"
      ],
      "text/plain": [
       "     Ono  Qno      PP  OLN    SALES       ST\n",
       "0  10107   30   95.70    2  2871.00  Shipped\n",
       "1  10121   34   81.35    5  2765.90  Shipped\n",
       "2  10134   41   94.74    2  3884.34  Shipped\n",
       "3  10145   45   83.26    6  3746.70  Shipped\n",
       "4  10159   49  100.00   14  5205.27  Shipped"
      ]
     },
     "execution_count": 4,
     "metadata": {},
     "output_type": "execute_result"
    }
   ],
   "source": [
    "import numpy as np\n",
    "import pandas as pd\n",
    "import matplotlib.pyplot as plot\n",
    "# Engine used to avoid encoding issue while file reading from csv\n",
    "file=pd.read_csv(\"C:/Users/BB/Desktop/Python+DA/sample-sales-data/sales_data_sample.csv\",engine=\"python\",sep=\",\")\n",
    "file.head(5)"
   ]
  },
  {
   "cell_type": "code",
   "execution_count": 6,
   "metadata": {},
   "outputs": [
    {
     "data": {
      "text/html": [
       "<div>\n",
       "<style scoped>\n",
       "    .dataframe tbody tr th:only-of-type {\n",
       "        vertical-align: middle;\n",
       "    }\n",
       "\n",
       "    .dataframe tbody tr th {\n",
       "        vertical-align: top;\n",
       "    }\n",
       "\n",
       "    .dataframe thead th {\n",
       "        text-align: right;\n",
       "    }\n",
       "</style>\n",
       "<table border=\"1\" class=\"dataframe\">\n",
       "  <thead>\n",
       "    <tr style=\"text-align: right;\">\n",
       "      <th></th>\n",
       "      <th>Ono</th>\n",
       "      <th>Qno</th>\n",
       "      <th>PP</th>\n",
       "      <th>OLN</th>\n",
       "      <th>SALES</th>\n",
       "      <th>ST</th>\n",
       "    </tr>\n",
       "  </thead>\n",
       "  <tbody>\n",
       "    <tr>\n",
       "      <th>0</th>\n",
       "      <td>10107</td>\n",
       "      <td>30</td>\n",
       "      <td>95.70</td>\n",
       "      <td>2</td>\n",
       "      <td>2871.00</td>\n",
       "      <td>Shipped</td>\n",
       "    </tr>\n",
       "    <tr>\n",
       "      <th>1</th>\n",
       "      <td>10121</td>\n",
       "      <td>34</td>\n",
       "      <td>81.35</td>\n",
       "      <td>5</td>\n",
       "      <td>2765.90</td>\n",
       "      <td>Shipped</td>\n",
       "    </tr>\n",
       "    <tr>\n",
       "      <th>2</th>\n",
       "      <td>10134</td>\n",
       "      <td>41</td>\n",
       "      <td>94.74</td>\n",
       "      <td>2</td>\n",
       "      <td>3884.34</td>\n",
       "      <td>Shipped</td>\n",
       "    </tr>\n",
       "    <tr>\n",
       "      <th>3</th>\n",
       "      <td>10145</td>\n",
       "      <td>45</td>\n",
       "      <td>83.26</td>\n",
       "      <td>6</td>\n",
       "      <td>3746.70</td>\n",
       "      <td>Shipped</td>\n",
       "    </tr>\n",
       "    <tr>\n",
       "      <th>4</th>\n",
       "      <td>10159</td>\n",
       "      <td>49</td>\n",
       "      <td>100.00</td>\n",
       "      <td>14</td>\n",
       "      <td>5205.27</td>\n",
       "      <td>Shipped</td>\n",
       "    </tr>\n",
       "    <tr>\n",
       "      <th>5</th>\n",
       "      <td>10168</td>\n",
       "      <td>36</td>\n",
       "      <td>96.66</td>\n",
       "      <td>1</td>\n",
       "      <td>3479.76</td>\n",
       "      <td>Shipped</td>\n",
       "    </tr>\n",
       "    <tr>\n",
       "      <th>6</th>\n",
       "      <td>10180</td>\n",
       "      <td>29</td>\n",
       "      <td>86.13</td>\n",
       "      <td>9</td>\n",
       "      <td>2497.77</td>\n",
       "      <td>Shipped</td>\n",
       "    </tr>\n",
       "    <tr>\n",
       "      <th>7</th>\n",
       "      <td>10188</td>\n",
       "      <td>48</td>\n",
       "      <td>100.00</td>\n",
       "      <td>1</td>\n",
       "      <td>5512.32</td>\n",
       "      <td>Shipped</td>\n",
       "    </tr>\n",
       "    <tr>\n",
       "      <th>8</th>\n",
       "      <td>10201</td>\n",
       "      <td>22</td>\n",
       "      <td>98.57</td>\n",
       "      <td>2</td>\n",
       "      <td>2168.54</td>\n",
       "      <td>Shipped</td>\n",
       "    </tr>\n",
       "    <tr>\n",
       "      <th>9</th>\n",
       "      <td>10211</td>\n",
       "      <td>41</td>\n",
       "      <td>100.00</td>\n",
       "      <td>14</td>\n",
       "      <td>4708.44</td>\n",
       "      <td>Shipped</td>\n",
       "    </tr>\n",
       "    <tr>\n",
       "      <th>10</th>\n",
       "      <td>10223</td>\n",
       "      <td>37</td>\n",
       "      <td>100.00</td>\n",
       "      <td>1</td>\n",
       "      <td>3965.66</td>\n",
       "      <td>Shipped</td>\n",
       "    </tr>\n",
       "    <tr>\n",
       "      <th>11</th>\n",
       "      <td>10237</td>\n",
       "      <td>23</td>\n",
       "      <td>100.00</td>\n",
       "      <td>7</td>\n",
       "      <td>2333.12</td>\n",
       "      <td>Shipped</td>\n",
       "    </tr>\n",
       "    <tr>\n",
       "      <th>12</th>\n",
       "      <td>10251</td>\n",
       "      <td>28</td>\n",
       "      <td>100.00</td>\n",
       "      <td>2</td>\n",
       "      <td>3188.64</td>\n",
       "      <td>Shipped</td>\n",
       "    </tr>\n",
       "    <tr>\n",
       "      <th>13</th>\n",
       "      <td>10263</td>\n",
       "      <td>34</td>\n",
       "      <td>100.00</td>\n",
       "      <td>2</td>\n",
       "      <td>3676.76</td>\n",
       "      <td>Shipped</td>\n",
       "    </tr>\n",
       "    <tr>\n",
       "      <th>14</th>\n",
       "      <td>10275</td>\n",
       "      <td>45</td>\n",
       "      <td>92.83</td>\n",
       "      <td>1</td>\n",
       "      <td>4177.35</td>\n",
       "      <td>Shipped</td>\n",
       "    </tr>\n",
       "    <tr>\n",
       "      <th>15</th>\n",
       "      <td>10285</td>\n",
       "      <td>36</td>\n",
       "      <td>100.00</td>\n",
       "      <td>6</td>\n",
       "      <td>4099.68</td>\n",
       "      <td>Shipped</td>\n",
       "    </tr>\n",
       "    <tr>\n",
       "      <th>16</th>\n",
       "      <td>10299</td>\n",
       "      <td>23</td>\n",
       "      <td>100.00</td>\n",
       "      <td>9</td>\n",
       "      <td>2597.39</td>\n",
       "      <td>Shipped</td>\n",
       "    </tr>\n",
       "    <tr>\n",
       "      <th>17</th>\n",
       "      <td>10309</td>\n",
       "      <td>41</td>\n",
       "      <td>100.00</td>\n",
       "      <td>5</td>\n",
       "      <td>4394.38</td>\n",
       "      <td>Shipped</td>\n",
       "    </tr>\n",
       "    <tr>\n",
       "      <th>18</th>\n",
       "      <td>10318</td>\n",
       "      <td>46</td>\n",
       "      <td>94.74</td>\n",
       "      <td>1</td>\n",
       "      <td>4358.04</td>\n",
       "      <td>Shipped</td>\n",
       "    </tr>\n",
       "    <tr>\n",
       "      <th>19</th>\n",
       "      <td>10329</td>\n",
       "      <td>42</td>\n",
       "      <td>100.00</td>\n",
       "      <td>1</td>\n",
       "      <td>4396.14</td>\n",
       "      <td>Shipped</td>\n",
       "    </tr>\n",
       "    <tr>\n",
       "      <th>20</th>\n",
       "      <td>10341</td>\n",
       "      <td>41</td>\n",
       "      <td>100.00</td>\n",
       "      <td>9</td>\n",
       "      <td>7737.93</td>\n",
       "      <td>Shipped</td>\n",
       "    </tr>\n",
       "    <tr>\n",
       "      <th>21</th>\n",
       "      <td>10361</td>\n",
       "      <td>20</td>\n",
       "      <td>72.55</td>\n",
       "      <td>13</td>\n",
       "      <td>1451.00</td>\n",
       "      <td>Shipped</td>\n",
       "    </tr>\n",
       "    <tr>\n",
       "      <th>22</th>\n",
       "      <td>10375</td>\n",
       "      <td>21</td>\n",
       "      <td>34.91</td>\n",
       "      <td>12</td>\n",
       "      <td>733.11</td>\n",
       "      <td>Shipped</td>\n",
       "    </tr>\n",
       "    <tr>\n",
       "      <th>23</th>\n",
       "      <td>10388</td>\n",
       "      <td>42</td>\n",
       "      <td>76.36</td>\n",
       "      <td>4</td>\n",
       "      <td>3207.12</td>\n",
       "      <td>Shipped</td>\n",
       "    </tr>\n",
       "    <tr>\n",
       "      <th>24</th>\n",
       "      <td>10403</td>\n",
       "      <td>24</td>\n",
       "      <td>100.00</td>\n",
       "      <td>7</td>\n",
       "      <td>2434.56</td>\n",
       "      <td>Shipped</td>\n",
       "    </tr>\n",
       "    <tr>\n",
       "      <th>25</th>\n",
       "      <td>10417</td>\n",
       "      <td>66</td>\n",
       "      <td>100.00</td>\n",
       "      <td>2</td>\n",
       "      <td>7516.08</td>\n",
       "      <td>Disputed</td>\n",
       "    </tr>\n",
       "    <tr>\n",
       "      <th>26</th>\n",
       "      <td>10103</td>\n",
       "      <td>26</td>\n",
       "      <td>100.00</td>\n",
       "      <td>11</td>\n",
       "      <td>5404.62</td>\n",
       "      <td>Shipped</td>\n",
       "    </tr>\n",
       "    <tr>\n",
       "      <th>27</th>\n",
       "      <td>10112</td>\n",
       "      <td>29</td>\n",
       "      <td>100.00</td>\n",
       "      <td>1</td>\n",
       "      <td>7209.11</td>\n",
       "      <td>Shipped</td>\n",
       "    </tr>\n",
       "    <tr>\n",
       "      <th>28</th>\n",
       "      <td>10126</td>\n",
       "      <td>38</td>\n",
       "      <td>100.00</td>\n",
       "      <td>11</td>\n",
       "      <td>7329.06</td>\n",
       "      <td>Shipped</td>\n",
       "    </tr>\n",
       "    <tr>\n",
       "      <th>29</th>\n",
       "      <td>10140</td>\n",
       "      <td>37</td>\n",
       "      <td>100.00</td>\n",
       "      <td>11</td>\n",
       "      <td>7374.10</td>\n",
       "      <td>Shipped</td>\n",
       "    </tr>\n",
       "    <tr>\n",
       "      <th>...</th>\n",
       "      <td>...</td>\n",
       "      <td>...</td>\n",
       "      <td>...</td>\n",
       "      <td>...</td>\n",
       "      <td>...</td>\n",
       "      <td>...</td>\n",
       "    </tr>\n",
       "    <tr>\n",
       "      <th>2793</th>\n",
       "      <td>10386</td>\n",
       "      <td>50</td>\n",
       "      <td>87.15</td>\n",
       "      <td>16</td>\n",
       "      <td>4357.50</td>\n",
       "      <td>Resolved</td>\n",
       "    </tr>\n",
       "    <tr>\n",
       "      <th>2794</th>\n",
       "      <td>10398</td>\n",
       "      <td>34</td>\n",
       "      <td>40.22</td>\n",
       "      <td>1</td>\n",
       "      <td>1367.48</td>\n",
       "      <td>Shipped</td>\n",
       "    </tr>\n",
       "    <tr>\n",
       "      <th>2795</th>\n",
       "      <td>10400</td>\n",
       "      <td>20</td>\n",
       "      <td>56.12</td>\n",
       "      <td>4</td>\n",
       "      <td>1122.40</td>\n",
       "      <td>Shipped</td>\n",
       "    </tr>\n",
       "    <tr>\n",
       "      <th>2796</th>\n",
       "      <td>10415</td>\n",
       "      <td>42</td>\n",
       "      <td>57.61</td>\n",
       "      <td>3</td>\n",
       "      <td>2419.62</td>\n",
       "      <td>Disputed</td>\n",
       "    </tr>\n",
       "    <tr>\n",
       "      <th>2797</th>\n",
       "      <td>10105</td>\n",
       "      <td>25</td>\n",
       "      <td>56.78</td>\n",
       "      <td>8</td>\n",
       "      <td>1419.50</td>\n",
       "      <td>Shipped</td>\n",
       "    </tr>\n",
       "    <tr>\n",
       "      <th>2798</th>\n",
       "      <td>10117</td>\n",
       "      <td>50</td>\n",
       "      <td>43.68</td>\n",
       "      <td>2</td>\n",
       "      <td>2184.00</td>\n",
       "      <td>Shipped</td>\n",
       "    </tr>\n",
       "    <tr>\n",
       "      <th>2799</th>\n",
       "      <td>10129</td>\n",
       "      <td>32</td>\n",
       "      <td>64.97</td>\n",
       "      <td>8</td>\n",
       "      <td>2079.04</td>\n",
       "      <td>Shipped</td>\n",
       "    </tr>\n",
       "    <tr>\n",
       "      <th>2800</th>\n",
       "      <td>10142</td>\n",
       "      <td>39</td>\n",
       "      <td>44.23</td>\n",
       "      <td>5</td>\n",
       "      <td>1724.97</td>\n",
       "      <td>Shipped</td>\n",
       "    </tr>\n",
       "    <tr>\n",
       "      <th>2801</th>\n",
       "      <td>10153</td>\n",
       "      <td>50</td>\n",
       "      <td>60.06</td>\n",
       "      <td>4</td>\n",
       "      <td>3003.00</td>\n",
       "      <td>Shipped</td>\n",
       "    </tr>\n",
       "    <tr>\n",
       "      <th>2802</th>\n",
       "      <td>10167</td>\n",
       "      <td>38</td>\n",
       "      <td>48.59</td>\n",
       "      <td>15</td>\n",
       "      <td>1846.42</td>\n",
       "      <td>Cancelled</td>\n",
       "    </tr>\n",
       "    <tr>\n",
       "      <th>2803</th>\n",
       "      <td>10177</td>\n",
       "      <td>40</td>\n",
       "      <td>50.23</td>\n",
       "      <td>6</td>\n",
       "      <td>2009.20</td>\n",
       "      <td>Shipped</td>\n",
       "    </tr>\n",
       "    <tr>\n",
       "      <th>2804</th>\n",
       "      <td>10185</td>\n",
       "      <td>28</td>\n",
       "      <td>64.43</td>\n",
       "      <td>6</td>\n",
       "      <td>1804.04</td>\n",
       "      <td>Shipped</td>\n",
       "    </tr>\n",
       "    <tr>\n",
       "      <th>2805</th>\n",
       "      <td>10197</td>\n",
       "      <td>42</td>\n",
       "      <td>50.23</td>\n",
       "      <td>12</td>\n",
       "      <td>2109.66</td>\n",
       "      <td>Shipped</td>\n",
       "    </tr>\n",
       "    <tr>\n",
       "      <th>2806</th>\n",
       "      <td>10208</td>\n",
       "      <td>42</td>\n",
       "      <td>63.88</td>\n",
       "      <td>6</td>\n",
       "      <td>2682.96</td>\n",
       "      <td>Shipped</td>\n",
       "    </tr>\n",
       "    <tr>\n",
       "      <th>2807</th>\n",
       "      <td>10222</td>\n",
       "      <td>36</td>\n",
       "      <td>63.34</td>\n",
       "      <td>18</td>\n",
       "      <td>2280.24</td>\n",
       "      <td>Shipped</td>\n",
       "    </tr>\n",
       "    <tr>\n",
       "      <th>2808</th>\n",
       "      <td>10232</td>\n",
       "      <td>24</td>\n",
       "      <td>49.69</td>\n",
       "      <td>3</td>\n",
       "      <td>1192.56</td>\n",
       "      <td>Shipped</td>\n",
       "    </tr>\n",
       "    <tr>\n",
       "      <th>2809</th>\n",
       "      <td>10248</td>\n",
       "      <td>23</td>\n",
       "      <td>65.52</td>\n",
       "      <td>9</td>\n",
       "      <td>1506.96</td>\n",
       "      <td>Cancelled</td>\n",
       "    </tr>\n",
       "    <tr>\n",
       "      <th>2810</th>\n",
       "      <td>10261</td>\n",
       "      <td>29</td>\n",
       "      <td>50.78</td>\n",
       "      <td>7</td>\n",
       "      <td>1472.62</td>\n",
       "      <td>Shipped</td>\n",
       "    </tr>\n",
       "    <tr>\n",
       "      <th>2811</th>\n",
       "      <td>10273</td>\n",
       "      <td>37</td>\n",
       "      <td>45.86</td>\n",
       "      <td>10</td>\n",
       "      <td>1696.82</td>\n",
       "      <td>Shipped</td>\n",
       "    </tr>\n",
       "    <tr>\n",
       "      <th>2812</th>\n",
       "      <td>10283</td>\n",
       "      <td>33</td>\n",
       "      <td>51.32</td>\n",
       "      <td>12</td>\n",
       "      <td>1693.56</td>\n",
       "      <td>Shipped</td>\n",
       "    </tr>\n",
       "    <tr>\n",
       "      <th>2813</th>\n",
       "      <td>10293</td>\n",
       "      <td>32</td>\n",
       "      <td>60.06</td>\n",
       "      <td>1</td>\n",
       "      <td>1921.92</td>\n",
       "      <td>Shipped</td>\n",
       "    </tr>\n",
       "    <tr>\n",
       "      <th>2814</th>\n",
       "      <td>10306</td>\n",
       "      <td>35</td>\n",
       "      <td>59.51</td>\n",
       "      <td>6</td>\n",
       "      <td>2082.85</td>\n",
       "      <td>Shipped</td>\n",
       "    </tr>\n",
       "    <tr>\n",
       "      <th>2815</th>\n",
       "      <td>10315</td>\n",
       "      <td>40</td>\n",
       "      <td>55.69</td>\n",
       "      <td>5</td>\n",
       "      <td>2227.60</td>\n",
       "      <td>Shipped</td>\n",
       "    </tr>\n",
       "    <tr>\n",
       "      <th>2816</th>\n",
       "      <td>10327</td>\n",
       "      <td>37</td>\n",
       "      <td>86.74</td>\n",
       "      <td>4</td>\n",
       "      <td>3209.38</td>\n",
       "      <td>Resolved</td>\n",
       "    </tr>\n",
       "    <tr>\n",
       "      <th>2817</th>\n",
       "      <td>10337</td>\n",
       "      <td>42</td>\n",
       "      <td>97.16</td>\n",
       "      <td>5</td>\n",
       "      <td>4080.72</td>\n",
       "      <td>Shipped</td>\n",
       "    </tr>\n",
       "    <tr>\n",
       "      <th>2818</th>\n",
       "      <td>10350</td>\n",
       "      <td>20</td>\n",
       "      <td>100.00</td>\n",
       "      <td>15</td>\n",
       "      <td>2244.40</td>\n",
       "      <td>Shipped</td>\n",
       "    </tr>\n",
       "    <tr>\n",
       "      <th>2819</th>\n",
       "      <td>10373</td>\n",
       "      <td>29</td>\n",
       "      <td>100.00</td>\n",
       "      <td>1</td>\n",
       "      <td>3978.51</td>\n",
       "      <td>Shipped</td>\n",
       "    </tr>\n",
       "    <tr>\n",
       "      <th>2820</th>\n",
       "      <td>10386</td>\n",
       "      <td>43</td>\n",
       "      <td>100.00</td>\n",
       "      <td>4</td>\n",
       "      <td>5417.57</td>\n",
       "      <td>Resolved</td>\n",
       "    </tr>\n",
       "    <tr>\n",
       "      <th>2821</th>\n",
       "      <td>10397</td>\n",
       "      <td>34</td>\n",
       "      <td>62.24</td>\n",
       "      <td>1</td>\n",
       "      <td>2116.16</td>\n",
       "      <td>Shipped</td>\n",
       "    </tr>\n",
       "    <tr>\n",
       "      <th>2822</th>\n",
       "      <td>10414</td>\n",
       "      <td>47</td>\n",
       "      <td>65.52</td>\n",
       "      <td>9</td>\n",
       "      <td>3079.44</td>\n",
       "      <td>On Hold</td>\n",
       "    </tr>\n",
       "  </tbody>\n",
       "</table>\n",
       "<p>2823 rows × 6 columns</p>\n",
       "</div>"
      ],
      "text/plain": [
       "        Ono  Qno      PP  OLN    SALES         ST\n",
       "0     10107   30   95.70    2  2871.00    Shipped\n",
       "1     10121   34   81.35    5  2765.90    Shipped\n",
       "2     10134   41   94.74    2  3884.34    Shipped\n",
       "3     10145   45   83.26    6  3746.70    Shipped\n",
       "4     10159   49  100.00   14  5205.27    Shipped\n",
       "5     10168   36   96.66    1  3479.76    Shipped\n",
       "6     10180   29   86.13    9  2497.77    Shipped\n",
       "7     10188   48  100.00    1  5512.32    Shipped\n",
       "8     10201   22   98.57    2  2168.54    Shipped\n",
       "9     10211   41  100.00   14  4708.44    Shipped\n",
       "10    10223   37  100.00    1  3965.66    Shipped\n",
       "11    10237   23  100.00    7  2333.12    Shipped\n",
       "12    10251   28  100.00    2  3188.64    Shipped\n",
       "13    10263   34  100.00    2  3676.76    Shipped\n",
       "14    10275   45   92.83    1  4177.35    Shipped\n",
       "15    10285   36  100.00    6  4099.68    Shipped\n",
       "16    10299   23  100.00    9  2597.39    Shipped\n",
       "17    10309   41  100.00    5  4394.38    Shipped\n",
       "18    10318   46   94.74    1  4358.04    Shipped\n",
       "19    10329   42  100.00    1  4396.14    Shipped\n",
       "20    10341   41  100.00    9  7737.93    Shipped\n",
       "21    10361   20   72.55   13  1451.00    Shipped\n",
       "22    10375   21   34.91   12   733.11    Shipped\n",
       "23    10388   42   76.36    4  3207.12    Shipped\n",
       "24    10403   24  100.00    7  2434.56    Shipped\n",
       "25    10417   66  100.00    2  7516.08   Disputed\n",
       "26    10103   26  100.00   11  5404.62    Shipped\n",
       "27    10112   29  100.00    1  7209.11    Shipped\n",
       "28    10126   38  100.00   11  7329.06    Shipped\n",
       "29    10140   37  100.00   11  7374.10    Shipped\n",
       "...     ...  ...     ...  ...      ...        ...\n",
       "2793  10386   50   87.15   16  4357.50   Resolved\n",
       "2794  10398   34   40.22    1  1367.48    Shipped\n",
       "2795  10400   20   56.12    4  1122.40    Shipped\n",
       "2796  10415   42   57.61    3  2419.62   Disputed\n",
       "2797  10105   25   56.78    8  1419.50    Shipped\n",
       "2798  10117   50   43.68    2  2184.00    Shipped\n",
       "2799  10129   32   64.97    8  2079.04    Shipped\n",
       "2800  10142   39   44.23    5  1724.97    Shipped\n",
       "2801  10153   50   60.06    4  3003.00    Shipped\n",
       "2802  10167   38   48.59   15  1846.42  Cancelled\n",
       "2803  10177   40   50.23    6  2009.20    Shipped\n",
       "2804  10185   28   64.43    6  1804.04    Shipped\n",
       "2805  10197   42   50.23   12  2109.66    Shipped\n",
       "2806  10208   42   63.88    6  2682.96    Shipped\n",
       "2807  10222   36   63.34   18  2280.24    Shipped\n",
       "2808  10232   24   49.69    3  1192.56    Shipped\n",
       "2809  10248   23   65.52    9  1506.96  Cancelled\n",
       "2810  10261   29   50.78    7  1472.62    Shipped\n",
       "2811  10273   37   45.86   10  1696.82    Shipped\n",
       "2812  10283   33   51.32   12  1693.56    Shipped\n",
       "2813  10293   32   60.06    1  1921.92    Shipped\n",
       "2814  10306   35   59.51    6  2082.85    Shipped\n",
       "2815  10315   40   55.69    5  2227.60    Shipped\n",
       "2816  10327   37   86.74    4  3209.38   Resolved\n",
       "2817  10337   42   97.16    5  4080.72    Shipped\n",
       "2818  10350   20  100.00   15  2244.40    Shipped\n",
       "2819  10373   29  100.00    1  3978.51    Shipped\n",
       "2820  10386   43  100.00    4  5417.57   Resolved\n",
       "2821  10397   34   62.24    1  2116.16    Shipped\n",
       "2822  10414   47   65.52    9  3079.44    On Hold\n",
       "\n",
       "[2823 rows x 6 columns]"
      ]
     },
     "execution_count": 6,
     "metadata": {},
     "output_type": "execute_result"
    }
   ],
   "source": [
    "file"
   ]
  },
  {
   "cell_type": "code",
   "execution_count": 8,
   "metadata": {},
   "outputs": [
    {
     "data": {
      "text/html": [
       "<div>\n",
       "<style scoped>\n",
       "    .dataframe tbody tr th:only-of-type {\n",
       "        vertical-align: middle;\n",
       "    }\n",
       "\n",
       "    .dataframe tbody tr th {\n",
       "        vertical-align: top;\n",
       "    }\n",
       "\n",
       "    .dataframe thead th {\n",
       "        text-align: right;\n",
       "    }\n",
       "</style>\n",
       "<table border=\"1\" class=\"dataframe\">\n",
       "  <thead>\n",
       "    <tr style=\"text-align: right;\">\n",
       "      <th></th>\n",
       "      <th>Ono</th>\n",
       "      <th>Qno</th>\n",
       "      <th>PP</th>\n",
       "      <th>OLN</th>\n",
       "      <th>SALES</th>\n",
       "      <th>ST</th>\n",
       "    </tr>\n",
       "  </thead>\n",
       "  <tbody>\n",
       "    <tr>\n",
       "      <th>0</th>\n",
       "      <td>10107</td>\n",
       "      <td>30</td>\n",
       "      <td>95.70</td>\n",
       "      <td>2</td>\n",
       "      <td>2871.00</td>\n",
       "      <td>Shipped</td>\n",
       "    </tr>\n",
       "    <tr>\n",
       "      <th>1</th>\n",
       "      <td>10121</td>\n",
       "      <td>34</td>\n",
       "      <td>81.35</td>\n",
       "      <td>5</td>\n",
       "      <td>2765.90</td>\n",
       "      <td>Shipped</td>\n",
       "    </tr>\n",
       "    <tr>\n",
       "      <th>2</th>\n",
       "      <td>10134</td>\n",
       "      <td>41</td>\n",
       "      <td>94.74</td>\n",
       "      <td>2</td>\n",
       "      <td>3884.34</td>\n",
       "      <td>Shipped</td>\n",
       "    </tr>\n",
       "    <tr>\n",
       "      <th>3</th>\n",
       "      <td>10145</td>\n",
       "      <td>45</td>\n",
       "      <td>83.26</td>\n",
       "      <td>6</td>\n",
       "      <td>3746.70</td>\n",
       "      <td>Shipped</td>\n",
       "    </tr>\n",
       "    <tr>\n",
       "      <th>4</th>\n",
       "      <td>10159</td>\n",
       "      <td>49</td>\n",
       "      <td>100.00</td>\n",
       "      <td>14</td>\n",
       "      <td>5205.27</td>\n",
       "      <td>Shipped</td>\n",
       "    </tr>\n",
       "    <tr>\n",
       "      <th>5</th>\n",
       "      <td>10168</td>\n",
       "      <td>36</td>\n",
       "      <td>96.66</td>\n",
       "      <td>1</td>\n",
       "      <td>3479.76</td>\n",
       "      <td>Shipped</td>\n",
       "    </tr>\n",
       "    <tr>\n",
       "      <th>6</th>\n",
       "      <td>10180</td>\n",
       "      <td>29</td>\n",
       "      <td>86.13</td>\n",
       "      <td>9</td>\n",
       "      <td>2497.77</td>\n",
       "      <td>Shipped</td>\n",
       "    </tr>\n",
       "    <tr>\n",
       "      <th>7</th>\n",
       "      <td>10188</td>\n",
       "      <td>48</td>\n",
       "      <td>100.00</td>\n",
       "      <td>1</td>\n",
       "      <td>5512.32</td>\n",
       "      <td>Shipped</td>\n",
       "    </tr>\n",
       "    <tr>\n",
       "      <th>8</th>\n",
       "      <td>10201</td>\n",
       "      <td>22</td>\n",
       "      <td>98.57</td>\n",
       "      <td>2</td>\n",
       "      <td>2168.54</td>\n",
       "      <td>Shipped</td>\n",
       "    </tr>\n",
       "    <tr>\n",
       "      <th>9</th>\n",
       "      <td>10211</td>\n",
       "      <td>41</td>\n",
       "      <td>100.00</td>\n",
       "      <td>14</td>\n",
       "      <td>4708.44</td>\n",
       "      <td>Shipped</td>\n",
       "    </tr>\n",
       "  </tbody>\n",
       "</table>\n",
       "</div>"
      ],
      "text/plain": [
       "     Ono  Qno      PP  OLN    SALES       ST\n",
       "0  10107   30   95.70    2  2871.00  Shipped\n",
       "1  10121   34   81.35    5  2765.90  Shipped\n",
       "2  10134   41   94.74    2  3884.34  Shipped\n",
       "3  10145   45   83.26    6  3746.70  Shipped\n",
       "4  10159   49  100.00   14  5205.27  Shipped\n",
       "5  10168   36   96.66    1  3479.76  Shipped\n",
       "6  10180   29   86.13    9  2497.77  Shipped\n",
       "7  10188   48  100.00    1  5512.32  Shipped\n",
       "8  10201   22   98.57    2  2168.54  Shipped\n",
       "9  10211   41  100.00   14  4708.44  Shipped"
      ]
     },
     "execution_count": 8,
     "metadata": {},
     "output_type": "execute_result"
    }
   ],
   "source": [
    "file.head(10)"
   ]
  },
  {
   "cell_type": "code",
   "execution_count": 2,
   "metadata": {},
   "outputs": [
    {
     "data": {
      "text/plain": [
       "<seaborn.axisgrid.FacetGrid at 0x2279f898a58>"
      ]
     },
     "execution_count": 2,
     "metadata": {},
     "output_type": "execute_result"
    },
    {
     "data": {
      "image/png": "[encoded data removed]",
      "text/plain": [
       "<Figure size 360x360 with 1 Axes>"
      ]
     },
     "metadata": {
      "needs_background": "light"
     },
     "output_type": "display_data"
    }
   ],
   "source": [
    "import numpy as np\n",
    "import pandas as pd\n",
    "import matplotlib.pyplot as plot\n",
    "import seaborn as sns\n",
    "a= sns.load_dataset(\"flights\") #https://github.com/mwaskom/seaborn-data\n",
    "sns.relplot(x=\"passengers\", y=\"month\",data=a)\n"
   ]
  },
  {
   "cell_type": "code",
   "execution_count": 5,
   "metadata": {},
   "outputs": [
    {
     "data": {
      "text/plain": [
       "<seaborn.axisgrid.FacetGrid at 0x2279f525b70>"
      ]
     },
     "execution_count": 5,
     "metadata": {},
     "output_type": "execute_result"
    },
    {
     "data": {
      "image/png": "[encoded data removed]",
      "text/plain": [
       "<Figure size 360x360 with 1 Axes>"
      ]
     },
     "metadata": {
      "needs_background": "light"
     },
     "output_type": "display_data"
    }
   ],
   "source": [
    "import numpy as np\n",
    "import pandas as pd\n",
    "import matplotlib.pyplot as plot\n",
    "# Engine used to avoid encoding issue while file reading from csv\n",
    "file=pd.read_csv(\"C:/Users/BB/Desktop/Python+DA/sample-sales-data/sales_data_sample.csv\",engine=\"python\",sep=\",\")\n",
    "#a= sns.load_dataset(\"flights\") #https://github.com/mwaskom/seaborn-data\n",
    "sns.relplot(x=\"ST\", y=\"SALES\",data=file)"
   ]
  },
  {
   "cell_type": "code",
   "execution_count": 6,
   "metadata": {},
   "outputs": [
    {
     "data": {
      "text/plain": [
       "<seaborn.axisgrid.FacetGrid at 0x227a0be3668>"
      ]
     },
     "execution_count": 6,
     "metadata": {},
     "output_type": "execute_result"
    },
    {
     "data": {
      "image/png": "[encoded data removed]",
      "text/plain": [
       "<Figure size 421.5x360 with 1 Axes>"
      ]
     },
     "metadata": {
      "needs_background": "light"
     },
     "output_type": "display_data"
    }
   ],
   "source": [
    "import numpy as np\n",
    "import pandas as pd\n",
    "import matplotlib.pyplot as plot\n",
    "import seaborn as sns\n",
    "a= sns.load_dataset(\"flights\") #https://github.com/mwaskom/seaborn-data\n",
    "sns.relplot(x=\"passengers\", y=\"month\",hue=\"year\",data=a)"
   ]
  },
  {
   "cell_type": "code",
   "execution_count": 8,
   "metadata": {},
   "outputs": [
    {
     "data": {
      "text/plain": [
       "<seaborn.axisgrid.FacetGrid at 0x227a0c6a208>"
      ]
     },
     "execution_count": 8,
     "metadata": {},
     "output_type": "execute_result"
    },
    {
     "data": {
      "image/png": "[encoded data removed]",
      "text/plain": [
       "<Figure size 360x360 with 1 Axes>"
      ]
     },
     "metadata": {
      "needs_background": "light"
     },
     "output_type": "display_data"
    }
   ],
   "source": [
    "b= sns.load_dataset(\"tips\") #https://github.com/mwaskom/seaborn-data\n",
    "sns.relplot(x=\"time\", y=\"tip\",data=b,kind=\"line\")"
   ]
  },
  {
   "cell_type": "code",
   "execution_count": 9,
   "metadata": {},
   "outputs": [
    {
     "data": {
      "text/plain": [
       "<seaborn.axisgrid.FacetGrid at 0x227a0cfcb70>"
      ]
     },
     "execution_count": 9,
     "metadata": {},
     "output_type": "execute_result"
    },
    {
     "data": {
      "image/png": "[encoded data removed]",
      "text/plain": [
       "<Figure size 360x360 with 1 Axes>"
      ]
     },
     "metadata": {
      "needs_background": "light"
     },
     "output_type": "display_data"
    }
   ],
   "source": [
    "sns.catplot(x=\"day\", y=\"total_bill\",data=b)"
   ]
  },
  {
   "cell_type": "code",
   "execution_count": 11,
   "metadata": {},
   "outputs": [
    {
     "data": {
      "text/plain": [
       "<seaborn.axisgrid.FacetGrid at 0x227a0c97cf8>"
      ]
     },
     "execution_count": 11,
     "metadata": {},
     "output_type": "execute_result"
    },
    {
     "data": {
      "image/png": "[encoded data removed]",
      "text/plain": [
       "<Figure size 360x360 with 1 Axes>"
      ]
     },
     "metadata": {
      "needs_background": "light"
     },
     "output_type": "display_data"
    }
   ],
   "source": [
    "sns.catplot(x=\"day\", y=\"total_bill\",kind=\"violin\",data=b)"
   ]
  },
  {
   "cell_type": "code",
   "execution_count": 12,
   "metadata": {},
   "outputs": [
    {
     "data": {
      "text/plain": [
       "<seaborn.axisgrid.FacetGrid at 0x227a0e5eac8>"
      ]
     },
     "execution_count": 12,
     "metadata": {},
     "output_type": "execute_result"
    },
    {
     "data": {
      "image/png": "[encoded data removed]",
      "text/plain": [
       "<Figure size 360x360 with 1 Axes>"
      ]
     },
     "metadata": {
      "needs_background": "light"
     },
     "output_type": "display_data"
    }
   ],
   "source": [
    "sns.catplot(x=\"day\", y=\"total_bill\",kind=\"boxen\",data=b)"
   ]
  },
  {
   "cell_type": "code",
   "execution_count": 13,
   "metadata": {},
   "outputs": [
    {
     "data": {
      "text/plain": [
       "<matplotlib.axes._subplots.AxesSubplot at 0x227a0f18c88>"
      ]
     },
     "execution_count": 13,
     "metadata": {},
     "output_type": "execute_result"
    },
    {
     "data": {
      "image/png": "[encoded data removed]",
      "text/plain": [
       "<Figure size 432x288 with 1 Axes>"
      ]
     },
     "metadata": {
      "needs_background": "light"
     },
     "output_type": "display_data"
    }
   ],
   "source": [
    "from scipy import stats #univarient graph\n",
    "c=np.random.normal(loc=5,size=100,scale=2)\n",
    "sns.distplot(c)"
   ]
  },
  {
   "cell_type": "code",
   "execution_count": 21,
   "metadata": {},
   "outputs": [
    {
     "data": {
      "text/plain": [
       "<seaborn.axisgrid.FacetGrid at 0x227a1152748>"
      ]
     },
     "execution_count": 21,
     "metadata": {},
     "output_type": "execute_result"
    },
    {
     "data": {
      "image/png": "[encoded data removed]",
      "text/plain": [
       "<Figure size 648x216 with 3 Axes>"
      ]
     },
     "metadata": {
      "needs_background": "light"
     },
     "output_type": "display_data"
    }
   ],
   "source": [
    "import matplotlib.pyplot as plt\n",
    "a=sns.load_dataset(\"iris\")\n",
    "b=sns.FacetGrid(a,col=\"species\")\n",
    "b.map(plt.hist,\"sepal_length\")\n"
   ]
  },
  {
   "cell_type": "code",
   "execution_count": 22,
   "metadata": {},
   "outputs": [
    {
     "data": {
      "text/plain": [
       "<seaborn.axisgrid.PairGrid at 0x227a246d630>"
      ]
     },
     "execution_count": 22,
     "metadata": {},
     "output_type": "execute_result"
    },
    {
     "data": {
      "image/png": "[encoded data removed]",
      "text/plain": [
       "<Figure size 360x360 with 4 Axes>"
      ]
     },
     "metadata": {
      "needs_background": "light"
     },
     "output_type": "display_data"
    }
   ],
   "source": [
    "a=sns.load_dataset(\"flights\")\n",
    "b=sns.PairGrid(a)\n",
    "b.map(plt.scatter)"
   ]
  },
  {
   "cell_type": "code",
   "execution_count": 23,
   "metadata": {},
   "outputs": [
    {
     "data": {
      "text/plain": [
       "<seaborn.axisgrid.PairGrid at 0x227a0ef07f0>"
      ]
     },
     "execution_count": 23,
     "metadata": {},
     "output_type": "execute_result"
    },
    {
     "data": {
      "image/png": "[encoded data removed]",
      "text/plain": [
       "<Figure size 360x360 with 4 Axes>"
      ]
     },
     "metadata": {},
     "output_type": "display_data"
    }
   ],
   "source": [
    "sns.set(style=\"darkgrid\")\n",
    "a=sns.load_dataset(\"flights\")\n",
    "b=sns.PairGrid(a)\n",
    "b.map(plt.scatter)"
   ]
  },
  {
   "cell_type": "code",
   "execution_count": 27,
   "metadata": {},
   "outputs": [
    {
     "data": {
      "text/plain": [
       "<matplotlib.axes._subplots.AxesSubplot at 0x2279f5d3cc0>"
      ]
     },
     "execution_count": 27,
     "metadata": {},
     "output_type": "execute_result"
    },
    {
     "data": {
      "image/png": "[encoded data removed]",
      "text/plain": [
       "<Figure size 432x288 with 1 Axes>"
      ]
     },
     "metadata": {},
     "output_type": "display_data"
    }
   ],
   "source": [
    "sns.set(style=\"ticks\",color_codes=True)\n",
    "a=sns.load_dataset(\"tips\")\n",
    "sns.boxplot(x=\"day\",y=\"total_bill\",data=a)"
   ]
  },
  {
   "cell_type": "code",
   "execution_count": 29,
   "metadata": {},
   "outputs": [
    {
     "data": {
      "image/png": "[encoded data removed]",
      "text/plain": [
       "<Figure size 432x288 with 1 Axes>"
      ]
     },
     "metadata": {},
     "output_type": "display_data"
    }
   ],
   "source": [
    "sns.set(style=\"ticks\",color_codes=True)\n",
    "a=sns.load_dataset(\"tips\")\n",
    "sns.boxplot(x=\"day\",y=\"total_bill\",data=a)\n",
    "sns.despine(offset=10,trim=True)"
   ]
  },
  {
   "cell_type": "code",
   "execution_count": 30,
   "metadata": {},
   "outputs": [
    {
     "data": {
      "image/png": "[encoded data removed]",
      "text/plain": [
       "<Figure size 720x72 with 1 Axes>"
      ]
     },
     "metadata": {},
     "output_type": "display_data"
    }
   ],
   "source": [
    "c=sns.color_palette()\n",
    "sns.palplot(c)"
   ]
  },
  {
   "cell_type": "code",
   "execution_count": null,
   "metadata": {},
   "outputs": [],
   "source": []
  }
 ],
 "metadata": {
  "kernelspec": {
   "display_name": "Python 3",
   "language": "python",
   "name": "python3"
  },
  "language_info": {
   "codemirror_mode": {
    "name": "ipython",
    "version": 3
   },
   "file_extension": ".py",
   "mimetype": "text/x-python",
   "name": "python",
   "nbconvert_exporter": "python",
   "pygments_lexer": "ipython3",
   "version": "3.7.3"
  }
 },
 "nbformat": 4,
 "nbformat_minor": 2
}
